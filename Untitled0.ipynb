{
  "nbformat": 4,
  "nbformat_minor": 0,
  "metadata": {
    "colab": {
      "name": "Untitled0.ipynb",
      "provenance": [],
      "collapsed_sections": [],
      "authorship_tag": "ABX9TyNMPuQ/H5+dGqNJS/eRsc9O",
      "include_colab_link": true
    },
    "kernelspec": {
      "name": "python3",
      "display_name": "Python 3"
    },
    "language_info": {
      "name": "python"
    }
  },
  "cells": [
    {
      "cell_type": "markdown",
      "metadata": {
        "id": "view-in-github",
        "colab_type": "text"
      },
      "source": [
        "<a href=\"https://colab.research.google.com/github/oatthegreat/Hw2/blob/main/Untitled0.ipynb\" target=\"_parent\"><img src=\"https://colab.research.google.com/assets/colab-badge.svg\" alt=\"Open In Colab\"/></a>"
      ]
    },
    {
      "cell_type": "code",
      "execution_count": null,
      "metadata": {
        "id": "l-o4CBZIryM2"
      },
      "outputs": [],
      "source": [
        "#1,2\n",
        "import pandas as pd\n",
        "import numpy as np\n",
        "\n",
        "#data set\n",
        "df = pd.read_csv (r'https://raw.githubusercontent.com/oatthegreat/Hw2/main/cars-sample35%20(1)%201.txt', names=['Price','Maintenance cost','Number of doors','Number of passengers','Luggage capacity','Safety rating','Classification of vehicle'])\n",
        "#copy\n",
        "df_original = df\n",
        "#check data set\n",
        "print ('Observation: {}'.format(df.shape[0]))\n",
        "pd.set_option('display.max_column', 20)\n",
        "df.head(50)"
      ]
    },
    {
      "cell_type": "code",
      "source": [
        "#3\n",
        "cars = []\n",
        "for i in df[\"Price\"]:\n",
        " cars = df.loc[df['Price'] == 'med', 'Price']\n",
        "\n",
        "print(cars)"
      ],
      "metadata": {
        "id": "HQOUM6zO6wD1"
      },
      "execution_count": null,
      "outputs": []
    },
    {
      "cell_type": "code",
      "source": [
        "#4\n",
        "cars = []\n",
        "for i in df[\"Price\"]:\n",
        " cars = df.loc[df['Price'] == 'med', 'Number of passengers']\n",
        "\n",
        "print(cars)"
      ],
      "metadata": {
        "id": "tTYzwg4xi9WP"
      },
      "execution_count": null,
      "outputs": []
    },
    {
      "cell_type": "code",
      "source": [
        "#5\n",
        "cars = []\n",
        "for i in df[\"Price\"]:\n",
        " cars = df.loc[(df['Price'] == 'med') | (df['Price'] != 'low')]\n",
        "\n",
        "print(cars)"
      ],
      "metadata": {
        "id": "yURRacH_Ddzz"
      },
      "execution_count": null,
      "outputs": []
    },
    {
      "cell_type": "code",
      "source": [
        "#6\n",
        "new_list = []\n",
        "new_list = [x for x in df['Price'] if x == 'med']\n",
        "print(new_list)\n"
      ],
      "metadata": {
        "id": "uY-C_GDeGMx0"
      },
      "execution_count": null,
      "outputs": []
    },
    {
      "cell_type": "code",
      "source": [
        "#7\n",
        "new_list = []\n",
        "new_list = [(x,y) for x in df['Price'] for y in df['Number of passengers'] if x == 'med']\n",
        "print(new_list)"
      ],
      "metadata": {
        "id": "AirEbBdXZkgA"
      },
      "execution_count": null,
      "outputs": []
    },
    {
      "cell_type": "code",
      "source": [
        "#8\n",
        "new_list = []\n",
        "new_list = [x for x in df['Price'] if x == 'med' if x != 'low']\n",
        "print(new_list)"
      ],
      "metadata": {
        "id": "GSXPievKg8qc"
      },
      "execution_count": null,
      "outputs": []
    },
    {
      "cell_type": "code",
      "source": [
        "#9\n",
        "nlist = [[1, 2, 3], ['A', 'B', 'C'], [4, 5], ['D', 'E']]\n",
        "flat_list = [item for sublist in nlist for item in sublist]\n",
        "print(flat_list)"
      ],
      "metadata": {
        "id": "IOKxBpnJDCU6"
      },
      "execution_count": null,
      "outputs": []
    }
  ]
}